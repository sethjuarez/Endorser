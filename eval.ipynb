{
 "cells": [
  {
   "cell_type": "code",
   "execution_count": 116,
   "metadata": {},
   "outputs": [],
   "source": [
    "import numpy as np\n",
    "import pandas as pd\n",
    "import azureml.dataprep as dprep"
   ]
  },
  {
   "cell_type": "code",
   "execution_count": 117,
   "metadata": {},
   "outputs": [
    {
     "data": {
      "text/html": [
       "<table border=\"1\" class=\"dataframe\">\n",
       "  <thead>\n",
       "    <tr style=\"text-align: right;\">\n",
       "      <th></th>\n",
       "      <th>Type</th>\n",
       "      <th>Min</th>\n",
       "      <th>Max</th>\n",
       "      <th>Count</th>\n",
       "      <th>Missing Count</th>\n",
       "      <th>Error Count</th>\n",
       "      <th>Lower Quartile</th>\n",
       "      <th>Median</th>\n",
       "      <th>Upper Quartile</th>\n",
       "      <th>Standard Deviation</th>\n",
       "      <th>Mean</th>\n",
       "    </tr>\n",
       "  </thead>\n",
       "  <tbody>\n",
       "    <tr>\n",
       "      <th>userId</th>\n",
       "      <td>FieldType.DECIMAL</td>\n",
       "      <td>1.0</td>\n",
       "      <td>610.0</td>\n",
       "      <td>100836.0</td>\n",
       "      <td>0.0</td>\n",
       "      <td>0.0</td>\n",
       "      <td>175.315403</td>\n",
       "      <td>324.696584</td>\n",
       "      <td>476.657212</td>\n",
       "      <td>182.618491</td>\n",
       "      <td>326.127564</td>\n",
       "    </tr>\n",
       "    <tr>\n",
       "      <th>movieId</th>\n",
       "      <td>FieldType.DECIMAL</td>\n",
       "      <td>1.0</td>\n",
       "      <td>193609.0</td>\n",
       "      <td>100836.0</td>\n",
       "      <td>0.0</td>\n",
       "      <td>0.0</td>\n",
       "      <td>1195.783037</td>\n",
       "      <td>2999.663578</td>\n",
       "      <td>7983.624875</td>\n",
       "      <td>35530.987199</td>\n",
       "      <td>19435.295718</td>\n",
       "    </tr>\n",
       "    <tr>\n",
       "      <th>rating</th>\n",
       "      <td>FieldType.DECIMAL</td>\n",
       "      <td>0.5</td>\n",
       "      <td>5.0</td>\n",
       "      <td>100836.0</td>\n",
       "      <td>0.0</td>\n",
       "      <td>0.0</td>\n",
       "      <td>2.888792</td>\n",
       "      <td>3.634298</td>\n",
       "      <td>4.000000</td>\n",
       "      <td>1.042529</td>\n",
       "      <td>3.501557</td>\n",
       "    </tr>\n",
       "  </tbody>\n",
       "</table>"
      ],
      "text/plain": [
       "ColumnProfile\n",
       "    name: userId\n",
       "    type: FieldType.DECIMAL\n",
       "\n",
       "    min: 1.0\n",
       "    max: 610.0\n",
       "    count: 100836.0\n",
       "    missing_count: 0.0\n",
       "    error_count: 0.0\n",
       "\n",
       "    lower_quartile: 175.31540293309726\n",
       "    median: 324.6965844793285\n",
       "    upper_quartile: 476.65721203323585\n",
       "    std: 182.6184914635004\n",
       "    mean: 326.1275635685669\n",
       "\n",
       "ColumnProfile\n",
       "    name: movieId\n",
       "    type: FieldType.DECIMAL\n",
       "\n",
       "    min: 1.0\n",
       "    max: 193609.0\n",
       "    count: 100836.0\n",
       "    missing_count: 0.0\n",
       "    error_count: 0.0\n",
       "\n",
       "    lower_quartile: 1195.7830366397175\n",
       "    median: 2999.6635777707997\n",
       "    upper_quartile: 7983.624874891973\n",
       "    std: 35530.9871987003\n",
       "    mean: 19435.295717799112\n",
       "\n",
       "ColumnProfile\n",
       "    name: rating\n",
       "    type: FieldType.DECIMAL\n",
       "\n",
       "    min: 0.5\n",
       "    max: 5.0\n",
       "    count: 100836.0\n",
       "    missing_count: 0.0\n",
       "    error_count: 0.0\n",
       "\n",
       "    lower_quartile: 2.888791629985707\n",
       "    median: 3.6342982644024664\n",
       "    upper_quartile: 4.0\n",
       "    std: 1.0425292390606342\n",
       "    mean: 3.5015569836169593"
      ]
     },
     "execution_count": 117,
     "metadata": {},
     "output_type": "execute_result"
    }
   ],
   "source": [
    "ratings = dprep.read_csv(path='data/ml-latest-small/ratings.csv', \n",
    "                         inference_arguments=dprep.InferenceArguments.current_culture())\n",
    "\n",
    "ratings = ratings.drop_columns(columns=['timestamp']).to_long(columns=['userId', 'movieId'])\n",
    "ratings.get_profile()"
   ]
  },
  {
   "cell_type": "code",
   "execution_count": 118,
   "metadata": {},
   "outputs": [
    {
     "data": {
      "text/plain": [
       "azureml.dataprep.api.dataflow.Dataflow"
      ]
     },
     "execution_count": 118,
     "metadata": {},
     "output_type": "execute_result"
    }
   ],
   "source": [
    "ratings.head(5)\n",
    "type(ratings)"
   ]
  },
  {
   "cell_type": "code",
   "execution_count": 119,
   "metadata": {},
   "outputs": [],
   "source": [
    "def score(pred_x, x):\n",
    "    assert (len(pred_x) == len(x)), \"Mismatch encountered in prediction and baseline\" \n",
    "    ideal = np.log2(np.arange(len(x)) + 2)\n",
    "    return np.sum(pred_x / ideal) / np.sum(x / ideal)"
   ]
  },
  {
   "cell_type": "code",
   "execution_count": 120,
   "metadata": {},
   "outputs": [],
   "source": [
    "def ideal_score(dataflow, userId, topn):\n",
    "    ff = dataflow.filter(expression=dprep.col('userId') == userId)\n",
    "    ff = ff.drop_columns(columns=['userId', 'movieId'])\n",
    "    ff = ff.sort_desc(columns='rating')\n",
    "    return ff.head(topn).values.T[0]"
   ]
  },
  {
   "cell_type": "code",
   "execution_count": 121,
   "metadata": {},
   "outputs": [],
   "source": [
    "x = ideal_score(ratings, 1, 10)\n",
    "pred = np.array([4, 4, 4, 4, 5, 5, 5, 5, 5, 5])"
   ]
  },
  {
   "cell_type": "code",
   "execution_count": 122,
   "metadata": {},
   "outputs": [
    {
     "data": {
      "text/plain": [
       "0.8872423084619552"
      ]
     },
     "execution_count": 122,
     "metadata": {},
     "output_type": "execute_result"
    }
   ],
   "source": [
    "score(pred, x)"
   ]
  },
  {
   "cell_type": "code",
   "execution_count": null,
   "metadata": {},
   "outputs": [],
   "source": []
  }
 ],
 "metadata": {
  "kernelspec": {
   "display_name": "Python 3",
   "language": "python",
   "name": "python3"
  },
  "language_info": {
   "codemirror_mode": {
    "name": "ipython",
    "version": 3
   },
   "file_extension": ".py",
   "mimetype": "text/x-python",
   "name": "python",
   "nbconvert_exporter": "python",
   "pygments_lexer": "ipython3",
   "version": "3.6.5"
  }
 },
 "nbformat": 4,
 "nbformat_minor": 2
}
