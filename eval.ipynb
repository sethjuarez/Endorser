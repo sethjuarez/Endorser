{
 "cells": [
  {
   "cell_type": "code",
   "execution_count": 1,
   "metadata": {},
   "outputs": [
    {
     "name": "stderr",
     "output_type": "stream",
     "text": [
      "c:\\programdata\\miniconda3\\lib\\site-packages\\requests\\__init__.py:91: RequestsDependencyWarning: urllib3 (1.24) or chardet (3.0.4) doesn't match a supported version!\n",
      "  RequestsDependencyWarning)\n"
     ]
    }
   ],
   "source": [
    "import matplotlib\n",
    "import numpy as np\n",
    "import pandas as pd\n",
    "import matplotlib.pyplot as plt\n",
    "import azureml.dataprep as dprep\n",
    "from misc.utils import ndcg, query_ratings, query_movie_ratings"
   ]
  },
  {
   "cell_type": "code",
   "execution_count": 2,
   "metadata": {},
   "outputs": [
    {
     "data": {
      "text/html": [
       "<table border=\"1\" class=\"dataframe\">\n",
       "  <thead>\n",
       "    <tr style=\"text-align: right;\">\n",
       "      <th></th>\n",
       "      <th>Type</th>\n",
       "      <th>Min</th>\n",
       "      <th>Max</th>\n",
       "      <th>Count</th>\n",
       "      <th>Missing Count</th>\n",
       "      <th>Error Count</th>\n",
       "      <th>Lower Quartile</th>\n",
       "      <th>Median</th>\n",
       "      <th>Upper Quartile</th>\n",
       "      <th>Standard Deviation</th>\n",
       "      <th>Mean</th>\n",
       "    </tr>\n",
       "  </thead>\n",
       "  <tbody>\n",
       "    <tr>\n",
       "      <th>userId</th>\n",
       "      <td>FieldType.DECIMAL</td>\n",
       "      <td>1.0</td>\n",
       "      <td>610.0</td>\n",
       "      <td>100836.0</td>\n",
       "      <td>0.0</td>\n",
       "      <td>0.0</td>\n",
       "      <td>175.315403</td>\n",
       "      <td>324.696584</td>\n",
       "      <td>476.657212</td>\n",
       "      <td>182.618491</td>\n",
       "      <td>326.127564</td>\n",
       "    </tr>\n",
       "    <tr>\n",
       "      <th>movieId</th>\n",
       "      <td>FieldType.DECIMAL</td>\n",
       "      <td>1.0</td>\n",
       "      <td>193609.0</td>\n",
       "      <td>100836.0</td>\n",
       "      <td>0.0</td>\n",
       "      <td>0.0</td>\n",
       "      <td>1195.783037</td>\n",
       "      <td>2999.663578</td>\n",
       "      <td>7983.624875</td>\n",
       "      <td>35530.987199</td>\n",
       "      <td>19435.295718</td>\n",
       "    </tr>\n",
       "    <tr>\n",
       "      <th>rating</th>\n",
       "      <td>FieldType.DECIMAL</td>\n",
       "      <td>0.5</td>\n",
       "      <td>5.0</td>\n",
       "      <td>100836.0</td>\n",
       "      <td>0.0</td>\n",
       "      <td>0.0</td>\n",
       "      <td>2.888792</td>\n",
       "      <td>3.634298</td>\n",
       "      <td>4.000000</td>\n",
       "      <td>1.042529</td>\n",
       "      <td>3.501557</td>\n",
       "    </tr>\n",
       "  </tbody>\n",
       "</table>"
      ],
      "text/plain": [
       "ColumnProfile\n",
       "    name: userId\n",
       "    type: FieldType.DECIMAL\n",
       "\n",
       "    min: 1.0\n",
       "    max: 610.0\n",
       "    count: 100836.0\n",
       "    missing_count: 0.0\n",
       "    error_count: 0.0\n",
       "\n",
       "    lower_quartile: 175.31540293309726\n",
       "    median: 324.6965844793285\n",
       "    upper_quartile: 476.65721203323585\n",
       "    std: 182.6184914635004\n",
       "    mean: 326.1275635685669\n",
       "\n",
       "ColumnProfile\n",
       "    name: movieId\n",
       "    type: FieldType.DECIMAL\n",
       "\n",
       "    min: 1.0\n",
       "    max: 193609.0\n",
       "    count: 100836.0\n",
       "    missing_count: 0.0\n",
       "    error_count: 0.0\n",
       "\n",
       "    lower_quartile: 1195.7830366397175\n",
       "    median: 2999.6635777707997\n",
       "    upper_quartile: 7983.624874891973\n",
       "    std: 35530.9871987003\n",
       "    mean: 19435.295717799112\n",
       "\n",
       "ColumnProfile\n",
       "    name: rating\n",
       "    type: FieldType.DECIMAL\n",
       "\n",
       "    min: 0.5\n",
       "    max: 5.0\n",
       "    count: 100836.0\n",
       "    missing_count: 0.0\n",
       "    error_count: 0.0\n",
       "\n",
       "    lower_quartile: 2.888791629985707\n",
       "    median: 3.6342982644024664\n",
       "    upper_quartile: 4.0\n",
       "    std: 1.0425292390606342\n",
       "    mean: 3.5015569836169593"
      ]
     },
     "execution_count": 2,
     "metadata": {},
     "output_type": "execute_result"
    }
   ],
   "source": [
    "ratings = dprep.read_csv(path='data/ml-latest-small/ratings.csv', \n",
    "                         inference_arguments=dprep.InferenceArguments.current_culture())\n",
    "\n",
    "ratings = ratings.drop_columns(columns=['timestamp']).to_long(columns=['userId', 'movieId'])\n",
    "ratings = ratings.set_name(name='ratings')\n",
    "\n",
    "package = dprep.Package(arg=ratings)\n",
    "package = package.save(file_path='ratings.dprep')\n",
    "\n",
    "ratings.get_profile()"
   ]
  },
  {
   "cell_type": "code",
   "execution_count": 3,
   "metadata": {},
   "outputs": [
    {
     "data": {
      "text/html": [
       "<div>\n",
       "<style scoped>\n",
       "    .dataframe tbody tr th:only-of-type {\n",
       "        vertical-align: middle;\n",
       "    }\n",
       "\n",
       "    .dataframe tbody tr th {\n",
       "        vertical-align: top;\n",
       "    }\n",
       "\n",
       "    .dataframe thead th {\n",
       "        text-align: right;\n",
       "    }\n",
       "</style>\n",
       "<table border=\"1\" class=\"dataframe\">\n",
       "  <thead>\n",
       "    <tr style=\"text-align: right;\">\n",
       "      <th></th>\n",
       "      <th>userId</th>\n",
       "      <th>movieId</th>\n",
       "      <th>rating</th>\n",
       "    </tr>\n",
       "  </thead>\n",
       "  <tbody>\n",
       "    <tr>\n",
       "      <th>0</th>\n",
       "      <td>1</td>\n",
       "      <td>1</td>\n",
       "      <td>4.0</td>\n",
       "    </tr>\n",
       "    <tr>\n",
       "      <th>1</th>\n",
       "      <td>1</td>\n",
       "      <td>3</td>\n",
       "      <td>4.0</td>\n",
       "    </tr>\n",
       "    <tr>\n",
       "      <th>2</th>\n",
       "      <td>1</td>\n",
       "      <td>6</td>\n",
       "      <td>4.0</td>\n",
       "    </tr>\n",
       "    <tr>\n",
       "      <th>3</th>\n",
       "      <td>1</td>\n",
       "      <td>47</td>\n",
       "      <td>5.0</td>\n",
       "    </tr>\n",
       "    <tr>\n",
       "      <th>4</th>\n",
       "      <td>1</td>\n",
       "      <td>50</td>\n",
       "      <td>5.0</td>\n",
       "    </tr>\n",
       "  </tbody>\n",
       "</table>\n",
       "</div>"
      ],
      "text/plain": [
       "   userId  movieId  rating\n",
       "0       1        1     4.0\n",
       "1       1        3     4.0\n",
       "2       1        6     4.0\n",
       "3       1       47     5.0\n",
       "4       1       50     5.0"
      ]
     },
     "execution_count": 3,
     "metadata": {},
     "output_type": "execute_result"
    }
   ],
   "source": [
    "ratings.head(5)"
   ]
  },
  {
   "cell_type": "markdown",
   "metadata": {},
   "source": [
    "# Ratings Count Distribution\n",
    "Find distibution of ratings counts"
   ]
  },
  {
   "cell_type": "code",
   "execution_count": 4,
   "metadata": {},
   "outputs": [
    {
     "data": {
      "image/png": "[encoded data removed]",
      "text/plain": [
       "<Figure size 432x288 with 1 Axes>"
      ]
     },
     "metadata": {},
     "output_type": "display_data"
    }
   ],
   "source": [
    "df = ratings.drop_columns(columns='movieId').to_pandas_dataframe()\n",
    "df = df.groupby('userId').count().sort_values(by='rating')\n",
    "plot = df.plot(kind='bar', legend=None, title='Ratings Count Dsitribution')\n",
    "plot.axes.get_xaxis().set_visible(False)\n",
    "plot.axes.spines['top'].set_visible(False)\n",
    "plot.axes.spines['right'].set_visible(False)"
   ]
  },
  {
   "cell_type": "markdown",
   "metadata": {},
   "source": [
    "# Discounted cumulative gain\n",
    "Test out metric"
   ]
  },
  {
   "cell_type": "code",
   "execution_count": 5,
   "metadata": {},
   "outputs": [],
   "source": [
    "x = query_ratings(ratings, 1, 20)\n",
    "pred = np.array([4, 4, 4, 4, 5, 5, 5, 5, 5, 5, 4, 4, 4, 4, 5, 5, 5, 5, 5, 5])"
   ]
  },
  {
   "cell_type": "code",
   "execution_count": 6,
   "metadata": {},
   "outputs": [
    {
     "data": {
      "text/plain": [
       "0.8968961188783916"
      ]
     },
     "execution_count": 6,
     "metadata": {},
     "output_type": "execute_result"
    }
   ],
   "source": [
    "ndcg(pred, x)"
   ]
  },
  {
   "cell_type": "code",
   "execution_count": 7,
   "metadata": {},
   "outputs": [
    {
     "data": {
      "text/plain": [
       "1.2120701022722418"
      ]
     },
     "execution_count": 7,
     "metadata": {},
     "output_type": "execute_result"
    }
   ],
   "source": [
    "ndcg(np.array([5,5,5,5,5]), np.array([5,3,4,4,4]))"
   ]
  },
  {
   "cell_type": "code",
   "execution_count": 8,
   "metadata": {},
   "outputs": [
    {
     "data": {
      "text/plain": [
       "0.8250347881078177"
      ]
     },
     "execution_count": 8,
     "metadata": {},
     "output_type": "execute_result"
    }
   ],
   "source": [
    "ndcg(np.array([5,3,4,4,4]), np.array([5,5,5,5,5]))"
   ]
  },
  {
   "cell_type": "markdown",
   "metadata": {},
   "source": [
    "# Mean Average Precision\n",
    "Measuring Precision as:\n",
    "$$precision = \\frac{\\left|{\\{relevant\\ documents\\}} \\cap {\\{retrieved\\ documents\\}}\\right|}{\\left|{\\{relevant\\ documents\\}}\\right|}$$\n",
    "Average Precision as:\n",
    "$$AveP = \\frac{\\sum_{k=1}^{n} (P(k) \\times rel(k))}{number\\ of\\ relevant\\ documents}$$\n",
    "where $rel(k)$ is an indicator function equaling 1 if the item at rank $k$ is relevant, zero otherwise. $P(k)$ is the precision at cut-off $k$, $n$ is the number of retrieve documents.\n",
    "Mean Average Precision is then:\n",
    "$$MAP = \\frac{\\sum_{q=1}^{Q}AveP(q)}{Q}$$"
   ]
  },
  {
   "cell_type": "code",
   "execution_count": null,
   "metadata": {},
   "outputs": [],
   "source": []
  }
 ],
 "metadata": {
  "kernelspec": {
   "display_name": "Python 3",
   "language": "python",
   "name": "python3"
  },
  "language_info": {
   "codemirror_mode": {
    "name": "ipython",
    "version": 3
   },
   "file_extension": ".py",
   "mimetype": "text/x-python",
   "name": "python",
   "nbconvert_exporter": "python",
   "pygments_lexer": "ipython3",
   "version": "3.6.5"
  }
 },
 "nbformat": 4,
 "nbformat_minor": 2
}
