{
 "cells": [
  {
   "cell_type": "code",
   "execution_count": 1,
   "metadata": {},
   "outputs": [
    {
     "name": "stderr",
     "output_type": "stream",
     "text": [
      "c:\\programdata\\miniconda3\\lib\\site-packages\\requests\\__init__.py:91: RequestsDependencyWarning: urllib3 (1.24) or chardet (3.0.4) doesn't match a supported version!\n",
      "  RequestsDependencyWarning)\n"
     ]
    },
    {
     "name": "stdout",
     "output_type": "stream",
     "text": [
      "Azure ML SDK Version:  0.1.68\n"
     ]
    }
   ],
   "source": [
    "%matplotlib inline\n",
    "import numpy as np\n",
    "import matplotlib\n",
    "import matplotlib.pyplot as plt\n",
    "\n",
    "import azureml\n",
    "from azureml.core import Workspace, Run\n",
    "\n",
    "# check core SDK version number\n",
    "print(\"Azure ML SDK Version: \", azureml.core.VERSION)"
   ]
  },
  {
   "cell_type": "markdown",
   "metadata": {},
   "source": [
    "# Workspace\n",
    "1. Get workspace associated with folder"
   ]
  },
  {
   "cell_type": "code",
   "execution_count": 38,
   "metadata": {},
   "outputs": [
    {
     "name": "stdout",
     "output_type": "stream",
     "text": [
      "Found the config file in: c:\\projects\\Endorser\\aml_config\\config.json\n"
     ]
    }
   ],
   "source": [
    "# use this code to set up config file\n",
    "#subscription_id ='<SUB ID>'\n",
    "#resource_group ='<RESOURCE>'\n",
    "#workspace_name = '<WS NAME>'\n",
    "\n",
    "#try:\n",
    "#   ws = Workspace(subscription_id = subscription_id, resource_group = resource_group, workspace_name = workspace_name)\n",
    "#   ws.write_config()\n",
    "#   print('Workspace configuration succeeded. You are all set!')\n",
    "#except:\n",
    "#   print('Workspace not found. TOO MANY ISSUES!!!')\n",
    "ws = Workspace.from_config()"
   ]
  },
  {
   "cell_type": "markdown",
   "metadata": {},
   "source": [
    "# DataStores\n",
    "1. Getting handle to specific folders on datastores "
   ]
  },
  {
   "cell_type": "code",
   "execution_count": 39,
   "metadata": {},
   "outputs": [],
   "source": [
    "ds = ws.get_default_datastore()"
   ]
  },
  {
   "cell_type": "code",
   "execution_count": 40,
   "metadata": {},
   "outputs": [
    {
     "name": "stderr",
     "output_type": "stream",
     "text": [
      "Target already exists. Skipping upload for ml-20m\\genome-scores.csv\n",
      "Target already exists. Skipping upload for ml-20m\\genome-tags.csv\n",
      "Target already exists. Skipping upload for ml-20m\\links.csv\n",
      "Target already exists. Skipping upload for ml-20m\\movies.csv\n",
      "Target already exists. Skipping upload for ml-20m\\ratings.csv\n",
      "Target already exists. Skipping upload for ml-20m\\README.txt\n",
      "Target already exists. Skipping upload for ml-20m\\tags.csv\n",
      "Target already exists. Skipping upload for ml-latest\\genome-scores.csv\n",
      "Target already exists. Skipping upload for ml-latest\\genome-tags.csv\n",
      "Target already exists. Skipping upload for ml-latest\\links.csv\n",
      "Target already exists. Skipping upload for ml-latest\\movies.csv\n",
      "Target already exists. Skipping upload for ml-latest\\ratings.csv\n",
      "Target already exists. Skipping upload for ml-latest\\README.txt\n",
      "Target already exists. Skipping upload for ml-latest\\tags.csv\n",
      "Target already exists. Skipping upload for ml-latest-small\\links.csv\n",
      "Target already exists. Skipping upload for ml-latest-small\\movies.csv\n",
      "Target already exists. Skipping upload for ml-latest-small\\ratings.csv\n",
      "Target already exists. Skipping upload for ml-latest-small\\README.txt\n",
      "Target already exists. Skipping upload for ml-latest-small\\tags.csv\n"
     ]
    }
   ],
   "source": [
    "ml20m = ds.upload(src_dir='data/ml-20m', target_path='ml-20m', show_progress=True)\n",
    "mllatest = ds.upload(src_dir='data/ml-latest', target_path='ml-latest', show_progress=True)\n",
    "mllatestsmall = ds.upload(src_dir='data/ml-latest-small', target_path='ml-latest-small', show_progress=True)"
   ]
  },
  {
   "cell_type": "markdown",
   "metadata": {},
   "source": [
    "# Experiments\n",
    "1. Running experiments"
   ]
  },
  {
   "cell_type": "code",
   "execution_count": null,
   "metadata": {},
   "outputs": [],
   "source": []
  }
 ],
 "metadata": {
  "kernelspec": {
   "display_name": "Python 3",
   "language": "python",
   "name": "python3"
  },
  "language_info": {
   "codemirror_mode": {
    "name": "ipython",
    "version": 3
   },
   "file_extension": ".py",
   "mimetype": "text/x-python",
   "name": "python",
   "nbconvert_exporter": "python",
   "pygments_lexer": "ipython3",
   "version": "3.6.5"
  }
 },
 "nbformat": 4,
 "nbformat_minor": 2
}
